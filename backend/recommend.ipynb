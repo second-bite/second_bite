{
 "cells": [
  {
   "cell_type": "code",
   "execution_count": null,
   "id": "c40ab7d8",
   "metadata": {},
   "outputs": [],
   "source": [
    "# Installation\n",
    "%pip install fastapi uvicorn numpy\n",
    "\n",
    "# Imports\n",
    "from fastapi import FastAPI"
   ]
  },
  {
   "cell_type": "code",
   "execution_count": null,
   "id": "990f40e4",
   "metadata": {},
   "outputs": [],
   "source": [
    "app = FastAPI()"
   ]
  },
  {
   "cell_type": "code",
   "execution_count": null,
   "id": "f3484653",
   "metadata": {},
   "outputs": [],
   "source": [
    "# Pull consumer information from the DB\n",
    "# TODO: "
   ]
  },
  {
   "cell_type": "code",
   "execution_count": null,
   "id": "12e09bc7",
   "metadata": {},
   "outputs": [],
   "source": [
    "# Features & default weights\n",
    "# TODO: "
   ]
  },
  {
   "cell_type": "code",
   "execution_count": null,
   "id": "03bff3af",
   "metadata": {},
   "outputs": [],
   "source": [
    "# Consumer vector generation\n",
    "# TODO: "
   ]
  },
  {
   "cell_type": "code",
   "execution_count": null,
   "id": "efa9cb8e",
   "metadata": {},
   "outputs": [],
   "source": [
    "# Restaurants vector generation\n",
    "# TODO: "
   ]
  },
  {
   "cell_type": "code",
   "execution_count": null,
   "id": "ce17c833",
   "metadata": {},
   "outputs": [],
   "source": [
    "# Cosine similarity\n",
    "# TODO: "
   ]
  },
  {
   "cell_type": "code",
   "execution_count": null,
   "id": "4ec83cb2",
   "metadata": {},
   "outputs": [],
   "source": [
    "# Return top-N recommendations\n",
    "# TODO: "
   ]
  },
  {
   "cell_type": "code",
   "execution_count": null,
   "id": "b5acd7d9",
   "metadata": {},
   "outputs": [],
   "source": [
    "@app.post(\"/recommend/{consumer_id}\")\n",
    "async def recommend(consumer_id: int)\n",
    "    # TODO: Recommendation code to be called here"
   ]
  }
 ],
 "metadata": {
  "kernelspec": {
   "display_name": "Python 3",
   "language": "python",
   "name": "python3"
  },
  "language_info": {
   "codemirror_mode": {
    "name": "ipython",
    "version": 3
   },
   "file_extension": ".py",
   "mimetype": "text/x-python",
   "name": "python",
   "nbconvert_exporter": "python",
   "pygments_lexer": "ipython3",
   "version": "3.12.10"
  }
 },
 "nbformat": 4,
 "nbformat_minor": 5
}
