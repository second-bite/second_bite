{
 "cells": [
  {
   "cell_type": "code",
   "execution_count": null,
   "id": "c40ab7d8",
   "metadata": {},
   "outputs": [],
   "source": [
    "# Installation\n",
    "%pip install fastapi uvicorn    # API\n",
    "%pip install numpy              # Efficient data handling\n",
    "%pip install python-dotenv      # .env => extracting hidden info\n",
    "%pip install requests           # Performing API calls\n",
    "\n",
    "# Imports\n",
    "from fastapi import FastAPI, HTTPException\n",
    "from dotenv import load_dotenv\n",
    "import os\n",
    "import requests\n",
    "from enum import Enum"
   ]
  },
  {
   "cell_type": "code",
   "execution_count": null,
   "id": "93af02df",
   "metadata": {},
   "outputs": [],
   "source": [
    "# Configuration\n",
    "load_dotenv()\n",
    "\n",
    "# Global Variables\n",
    "DB_URL = os.getenv(\"DATABASE_URL\")\n",
    "class ConsumerField(Enum):\n",
    "    VISITS = 1\n",
    "    ORDERS = 2\n",
    "    FAVORITED = 3\n",
    "    FRIENDS = 4\n",
    "    ALL = 5"
   ]
  },
  {
   "cell_type": "code",
   "execution_count": null,
   "id": "990f40e4",
   "metadata": {},
   "outputs": [],
   "source": [
    "app = FastAPI()"
   ]
  },
  {
   "cell_type": "code",
   "execution_count": null,
   "id": "f3484653",
   "metadata": {},
   "outputs": [],
   "source": [
    "# Pull consumer information from the DB\n",
    "async get_consumer_info(field):\n",
    "    response = requests.get(f\"{DB_URL}/consumer\")\n",
    "    if not response.ok:\n",
    "        raise HTTPException(status_code=424, detail=\"Failed to pull consumer information from DB\")\n",
    "    consumer_data = response.json()\n",
    "\n",
    "    # Extract desired information\n",
    "    match field:\n",
    "        case ConsumerField.VISITS:\n",
    "            return consumer_data['restaurant_visits']\n",
    "        case ConsumerField.ORDERS:\n",
    "            return consumer_data['orders']\n",
    "        case ConsumerField.FAVORITED:\n",
    "            return consumer_data['favorite_restaurants']\n",
    "        case ConsumerField.FRIENDS:\n",
    "            all_friends = consumer_data['friendships_a'] | consumer_data['friendships_b']\n",
    "            return all_friends\n",
    "        case ConsumerField.ALL:\n",
    "            return consumer_data\n",
    "        case _: # default case\n",
    "            return consumer_data\n",
    "\n",
    "# Pull restaurant information from the DB\n",
    "async get_restaurant_info():\n",
    "    response = requests.get(f\"{DB_URL}/restaurant\")\n",
    "    if not response.ok:\n",
    "        raise HTTPException(status_code=424, detail=\"Failed to pull restaurant information from DB\")\n",
    "    restaurant_data = response.json()\n",
    "    return restaurant_data"
   ]
  },
  {
   "cell_type": "code",
   "execution_count": null,
   "id": "12e09bc7",
   "metadata": {},
   "outputs": [],
   "source": [
    "# Features & default weights\n",
    "# TODO: Add actual weights (currently arbitrarily)\n",
    "# Feature Weights\n",
    "rating_weight = 0.3; avg_cost_weight = 0.2; distance_weight = 0.125\n",
    "category_budget = 1 - rating_weight - avg_cost_weight - distance_weight\n",
    "num_categories = 29\n",
    "category_weight = category_budget / num_categories\n",
    "feature_weights = {\n",
    "    'rating': rating_weight,\n",
    "    'avg_cost': avg_cost_weight,\n",
    "    'distance': distance_weight,\n",
    "    # Following are categories one-hot encoding\n",
    "    'asian': category_weight,\n",
    "    'bakery': category_weight,\n",
    "    'barfood': category_weight,\n",
    "    'bbq': category_weight,\n",
    "    'breakfast': category_weight,\n",
    "    'burgers': category_weight,\n",
    "    'cafe': category_weight,\n",
    "    'chinese': category_weight,\n",
    "    'desserts': category_weight,\n",
    "    'fastfood': category_weight,\n",
    "    'french': category_weight,\n",
    "    'greek': category_weight,\n",
    "    'healthy': category_weight,\n",
    "    'indian': category_weight,\n",
    "    'italian': category_weight,\n",
    "    'japanese': category_weight,\n",
    "    'korean': category_weight,\n",
    "    'latinamerican': category_weight,\n",
    "    'mediterranean': category_weight,\n",
    "    'mexican': category_weight,\n",
    "    'middleeastern': category_weight,\n",
    "    'pizza': category_weight,\n",
    "    'salads': category_weight,\n",
    "    'sandwiches': category_weight,\n",
    "    'seafood': category_weight,\n",
    "    'sushi': category_weight,\n",
    "    'thai': category_weight,\n",
    "    'vegan': category_weight,\n",
    "    'vegetarian': category_weight,\n",
    "    'vietnamese': category_weight,\n",
    "}\n",
    "\n",
    "# Existing Restaurant Interaction Weights\n",
    "# NOTE: Used to define how to weigh restaurant's to generate consumer vector\n",
    "# TODO: Edit later?\n",
    "restaurant_type_weights = {\n",
    "    'survey': 0.6,\n",
    "    'liked': 0.8,\n",
    "    'order': 0.4,\n",
    "    'visit': 0.2,\n",
    "}\n",
    "\n",
    "# Consumer Vector Feedback/Interaction Weights\n",
    "# NOTE: Used to define feedback on updating consumer vector based on interactions with recommendations\n",
    "# TODO: Edit later?\n",
    "recommendation_feedback_weights = {\n",
    "    'liked': 0.2,\n",
    "    'order': 0.1,\n",
    "    'visit': 0.04,\n",
    "}"
   ]
  },
  {
   "cell_type": "code",
   "execution_count": null,
   "id": "03bff3af",
   "metadata": {},
   "outputs": [],
   "source": [
    "# Consumer Vector Operations\n",
    "# TODO: \n",
    "def generate_init_consumer_vector():\n",
    "    # TODO: \n",
    "def update_consumer_vector():\n",
    "    # TODO: \n",
    "    "
   ]
  },
  {
   "cell_type": "code",
   "execution_count": null,
   "id": "efa9cb8e",
   "metadata": {},
   "outputs": [],
   "source": [
    "# Restaurants Vector Generation\n",
    "# TODO: \n",
    "def generate_restaurant_vectors():\n",
    "    # TODO: "
   ]
  },
  {
   "cell_type": "code",
   "execution_count": null,
   "id": "ce17c833",
   "metadata": {},
   "outputs": [],
   "source": [
    "# Cosine similarity\n",
    "# TODO: "
   ]
  },
  {
   "cell_type": "code",
   "execution_count": null,
   "id": "4ec83cb2",
   "metadata": {},
   "outputs": [],
   "source": [
    "# Return top-N recommendations\n",
    "# TODO: "
   ]
  },
  {
   "cell_type": "code",
   "execution_count": null,
   "id": "b5acd7d9",
   "metadata": {},
   "outputs": [],
   "source": [
    "@app.get(\"/recommend/{consumer_id}\")\n",
    "async def recommend(consumer_id: int):\n",
    "    # TODO: Recommendation code to be called here"
   ]
  }
 ],
 "metadata": {
  "kernelspec": {
   "display_name": "Python 3",
   "language": "python",
   "name": "python3"
  },
  "language_info": {
   "codemirror_mode": {
    "name": "ipython",
    "version": 3
   },
   "file_extension": ".py",
   "mimetype": "text/x-python",
   "name": "python",
   "nbconvert_exporter": "python",
   "pygments_lexer": "ipython3",
   "version": "3.12.10"
  }
 },
 "nbformat": 4,
 "nbformat_minor": 5
}
