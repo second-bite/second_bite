{
 "cells": [
  {
   "cell_type": "code",
   "execution_count": null,
   "id": "ec233825",
   "metadata": {},
   "outputs": [],
   "source": [
    "## Installation\n",
    "%pip install fastapi uvicorn nest-asyncio   # API\n",
    "%pip install numpy                          # Efficient data handling\n",
    "%pip install python-dotenv                  # .env => extracting hidden info\n",
    "%pip install requests                       # Performing API calls\n",
    "% pip install statsmodels                   # Optimized Parameter Generation\n",
    "\n",
    "## Imports\n",
    "from fastapi import FastAPI, Cookie, HTTPException\n",
    "from fastapi.responses import JSONResponse\n",
    "from fastapi.middleware.cors import CORSMiddleware\n",
    "from typing import Annotated\n",
    "import uvicorn\n",
    "import nest_asyncio\n",
    "import numpy as np\n",
    "from dotenv import load_dotenv\n",
    "import os\n",
    "import requests\n",
    "from enum import Enum "
   ]
  },
  {
   "cell_type": "code",
   "execution_count": null,
   "id": "5e244cda",
   "metadata": {},
   "outputs": [],
   "source": [
    "## Configuration\n",
    "load_dotenv()\n",
    "\n",
    "## Global Variables\n",
    "BACKEND_URL = os.getenv(\"BACKEND_URL\")"
   ]
  },
  {
   "cell_type": "code",
   "execution_count": null,
   "id": "b737d611",
   "metadata": {},
   "outputs": [],
   "source": [
    "app = FastAPI()\n",
    "\n",
    "app.add_middleware(\n",
    "    CORSMiddleware,\n",
    "    allow_origins=[\"http://localhost:5173\", \"http://localhost:3000\"],\n",
    "    allow_credentials=True,\n",
    "    allow_methods=[\"*\"],\n",
    "    allow_headers=[\"*\"]\n",
    ")"
   ]
  },
  {
   "cell_type": "code",
   "execution_count": null,
   "id": "31169dc9",
   "metadata": {},
   "outputs": [],
   "source": [
    "# SARIMA Parameters\n",
    "# TODO: Currently speculation, fix down the line\n",
    "p = 1       # 1st Order Non-Seasonal AR Component\n",
    "d = 1       # 1st Order Non-Seasonal I Component\n",
    "q = 1       # 1st Order Non-Seasonal MA Component\n",
    "P = 1       # 1st Order Seasonal AR Component\n",
    "D = 1       # 1st Order Seasonal I Component\n",
    "Q = 1       # 1st Order Seasonal MA Component\n",
    "s = 52      # Weekly\n",
    " "
   ]
  },
  {
   "cell_type": "code",
   "execution_count": null,
   "id": "b9ae89de",
   "metadata": {},
   "outputs": [],
   "source": [
    "# TODO: Put data (num orders, total revenue, num first-time orders, num site visits) for a given restaurant into buckets\n"
   ]
  },
  {
   "cell_type": "code",
   "execution_count": null,
   "id": "e4d45e74",
   "metadata": {},
   "outputs": [],
   "source": [
    "# Apply differencing\n",
    "# Credit: https://otexts.com/fpp2/stationarity.html\n",
    "def differencing(arr, lag = 1, repeat = 1):\n",
    "    differenced_arr = np.copy(arr)\n",
    "    for i in range(repeat):\n",
    "        differenced_arr = differenced_arr[lag:] - differenced_arr[:lag]\n",
    "    return differenced_arr\n",
    "\n",
    "# Apply undifferencing\n",
    "# Credit: https://stackoverflow.com/questions/72700812/how-to-inverse-differencing-on-future-forecasted-result\n",
    "def revert_differencing(original_arr, differenced_arr, lag = 1, repeat = 1):\n",
    "    inverted_diff_arr = np.copy(differenced_arr)\n",
    "    for i in range(repeat):\n",
    "        inverted_diff_arr = np.r_[original_arr[-lag:], differenced_arr].cumsum()\n",
    "    return inverted_diff_arr[-len(differenced_arr):]"
   ]
  },
  {
   "cell_type": "code",
   "execution_count": null,
   "id": "394d3974",
   "metadata": {},
   "outputs": [],
   "source": [
    "# Perform polynomial multiplication (essentially performing discrete convolution)\n",
    "def polynomial_mul(poly_a, poly_b):\n",
    "    product_len = len(poly_a) + len(poly_b) - 1\n",
    "    product_poly = np.zeros(product_len, dtype=float)\n",
    "    for i in range(len(poly_a)):\n",
    "        for j in range(len(poly_b)):\n",
    "            product_poly[i + j] += poly_a[i] * poly_b[j]     \n",
    "    return product_poly\n",
    "\n",
    "# Using seasonal and non-seasonal coefficients, generates the polynomial upon application of both seasonal/non-seasonal for one of: {MA, AR}\n",
    "def generate_seasonal_n_nonseasonal_poly(seasonal_coeff, nonseasonal_coeff, is_positive):\n",
    "    # TODO: Use s from above\n",
    "    # Nonseasonal Polynomial w/ Lag Coefficients\n",
    "    nonseasonal_poly = np.zeros(len(nonseasonal_coeff) + 1) \n",
    "    nonseasonal_poly[0] = 1\n",
    "    nonseasonal_poly[1:] = np.array(nonseasonal_coeff) if is_positive else -np.array(nonseasonal_coeff)\n",
    "    \n",
    "    # Seasonal Polynomial w/ Lag Coefficients\n",
    "    seasonal_poly = np.zeros((len(seasonal_coeff) * s) + 1)\n",
    "    seasonal_poly[0] = 1\n",
    "    for i in range(s):\n",
    "        seasonal_poly[s*i + 1] = seasonal_coeff[i] if is_positive else -seasonal_coeff[i]\n",
    "        \n",
    "    # Generate Product Polynomial\n",
    "    product_poly = polynomial_mul(nonseasonal_poly, seasonal_poly)\n",
    "    \n",
    "    return product_poly"
   ]
  },
  {
   "cell_type": "code",
   "execution_count": null,
   "id": "bfb6592c",
   "metadata": {},
   "outputs": [],
   "source": [
    "# Perform parameter generation from scratch\n",
    "# NOTE: Implementing this from scratch would require using Hannan–Rissanen and Maximum Likelihood Estimation (MLE) with a Kalman filter and additional optimizers, which would\n",
    "# add an extreme and highly unrealistic level of complexity (due to the very difficult math involved)\n",
    "# NOTE: This ONLY uses model parameters - everything else is being done entirely from scratch\n",
    "\n",
    "def get_sarima_params(data):\n",
    "    from statsmodels.tsa.statespace.sarimax import SARIMAX\n",
    "    model = SARIMAX(data, order=(p,d,q), seasonal_order=(P,D,Q,s))\n",
    "    res = model.fit(disp=False)\n",
    "    params = res.params\n",
    "    \n",
    "    phi1   = params[0]\n",
    "    theta1 = params[1]\n",
    "    Phi1   = params[2]\n",
    "    Theta1 = params[3]\n",
    "    sigma = params[-1]\n",
    "\n",
    "    return dict(phi1=phi1, theta1=theta1, Phi1=Phi1, Theta1=Theta1, sigma=sigma)"
   ]
  },
  {
   "cell_type": "code",
   "execution_count": null,
   "id": "06fc6fa7",
   "metadata": {},
   "outputs": [],
   "source": [
    "# TODO: \n",
    "def forecast_next_week(data):\n",
    "    # Retrieve SARIMA parameters\n",
    "    params = get_sarima_params(data)\n",
    "    phi1, Phi1 = params['phi1'], params['Phi1']\n",
    "    theta1, Theta1 = params['theta1'], params['Theta1']\n",
    "    sigma = params['sigma']\n",
    "    \n",
    "    # Apply seasonal differencing\n",
    "    differenced_trend = differencing(data, s)\n",
    "    # Apply trend differencing on top of this\n",
    "    differenced_all = differencing(differenced_trend, 1)\n",
    "    \n",
    "    # TODO: "
   ]
  },
  {
   "cell_type": "code",
   "execution_count": null,
   "id": "e980f3ef",
   "metadata": {},
   "outputs": [],
   "source": [
    "# NOTE: Given limited data, will only be used to forecast next week's KPI figures\n",
    "@app.get(\"/analytics/forecast\")\n",
    "def forecast():\n",
    "    # TODO: Get data\n",
    "    next_week_revenue = forecast_next_week(revenue_data)\n",
    "    next_week_orders = forecast_next_week(order_data)\n",
    "    next_week_site_visits = forecast_next_week(visit_data)\n",
    "    next_week_first_time_consumers = forecast_next_week(first_time_consumer_data)\n",
    "    \n",
    "    return JSONResponse([next_week_revenue, next_week_orders, next_week_site_visits, next_week_first_time_consumers])"
   ]
  },
  {
   "cell_type": "code",
   "execution_count": null,
   "id": "3cb9920e",
   "metadata": {},
   "outputs": [],
   "source": [
    "## Get FastAPI Server Online\n",
    "if __name__ == \"__main__\":\n",
    "    nest_asyncio.apply()\n",
    "    uvicorn.run(app, host=\"127.0.0.1\", port=8080)"
   ]
  }
 ],
 "metadata": {
  "language_info": {
   "name": "python"
  }
 },
 "nbformat": 4,
 "nbformat_minor": 5
}
