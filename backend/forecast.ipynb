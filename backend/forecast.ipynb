{
 "cells": [
  {
   "cell_type": "code",
   "execution_count": null,
   "id": "ec233825",
   "metadata": {},
   "outputs": [],
   "source": [
    "## Installation\n",
    "%pip install fastapi uvicorn nest-asyncio   # API\n",
    "%pip install numpy                          # Efficient data handling\n",
    "%pip install python-dotenv                  # .env => extracting hidden info\n",
    "%pip install requests                       # Performing API calls\n",
    "\n",
    "## Imports\n",
    "from fastapi import FastAPI, Cookie, HTTPException\n",
    "from fastapi.responses import JSONResponse\n",
    "from fastapi.middleware.cors import CORSMiddleware\n",
    "from typing import Annotated\n",
    "import uvicorn\n",
    "import nest_asyncio\n",
    "import numpy as np\n",
    "from dotenv import load_dotenv\n",
    "import os\n",
    "import requests\n",
    "from enum import Enum "
   ]
  },
  {
   "cell_type": "code",
   "execution_count": null,
   "id": "5e244cda",
   "metadata": {},
   "outputs": [],
   "source": [
    "## Configuration\n",
    "load_dotenv()\n",
    "\n",
    "## Global Variables\n",
    "BACKEND_URL = os.getenv(\"BACKEND_URL\")"
   ]
  },
  {
   "cell_type": "code",
   "execution_count": null,
   "id": "b737d611",
   "metadata": {},
   "outputs": [],
   "source": [
    "app = FastAPI()\n",
    "\n",
    "app.add_middleware(\n",
    "    CORSMiddleware,\n",
    "    allow_origins=[\"http://localhost:5173\", \"http://localhost:3000\"],\n",
    "    allow_credentials=True,\n",
    "    allow_methods=[\"*\"],\n",
    "    allow_headers=[\"*\"]\n",
    ")"
   ]
  },
  {
   "cell_type": "code",
   "execution_count": null,
   "id": "31169dc9",
   "metadata": {},
   "outputs": [],
   "source": [
    "# SARIMA Parameters\n",
    "# TODO: Currently speculation, fix down the line\n",
    "p = 1       # 1st Order Non-Seasonal AR Component\n",
    "d = 1       # 1st Order Non-Seasonal I Component\n",
    "q = 1       # 1st Order Non-Seasonal MA Component\n",
    "P = 1       # 1st Order Seasonal AR Component\n",
    "D = 1       # 1st Order Seasonal I Component\n",
    "Q = 1       # 1st Order Seasonal MA Component\n",
    "s = 52      # Weekly\n",
    "\n",
    "# SARIMA Coefficients\n",
    "phi1 = \n",
    "\n",
    "delta1 = \n",
    "Phi1 = \n",
    "\n",
    "Delta1 = \n",
    " # TODO: Figure out the coefficients\n",
    " "
   ]
  },
  {
   "cell_type": "code",
   "execution_count": null,
   "id": "b9ae89de",
   "metadata": {},
   "outputs": [],
   "source": [
    "# TODO: Put data (num orders, total revenue, num first-time orders, num site visits) for a given restaurant into buckets\n"
   ]
  },
  {
   "cell_type": "code",
   "execution_count": null,
   "id": "e4d45e74",
   "metadata": {},
   "outputs": [],
   "source": [
    "# TODO: Apply differencing\n",
    "\n",
    "# TODO: Apply undifferencing"
   ]
  },
  {
   "cell_type": "code",
   "execution_count": null,
   "id": "394d3974",
   "metadata": {},
   "outputs": [],
   "source": [
    "def generate_seasonal_n_nonseasonal_poly(seasonal_coeff, nonseasonal_coeff):\n",
    "    # TODO: Use s from above\n",
    "    # Nonseasonal Polynomial w/ Lag Coefficients\n",
    "    nonseasonal_poly = np.zeros(len(nonseasonal_coeff) + 1) \n",
    "    nonseasonal_poly[0] = 1\n",
    "    nonseasonal_poly[1:] = nonseasonal_coeff\n",
    "    \n",
    "    # Seasonal Polynomial w/ Lag Coefficients\n",
    "    seasonal_poly = np.zeros((len(seasonal_coeff) * s) + 1)\n",
    "    seasonal_poly[0] = 1\n",
    "    for i in range(s):\n",
    "        "
   ]
  },
  {
   "cell_type": "code",
   "execution_count": null,
   "id": "e980f3ef",
   "metadata": {},
   "outputs": [],
   "source": [
    "# NOTE: Given limited data, will only be used to forecast next week's KPI figures\n",
    "@app.get(\"/analytics/forecast\")\n",
    "def forecast():\n",
    "    pass"
   ]
  },
  {
   "cell_type": "code",
   "execution_count": null,
   "id": "3cb9920e",
   "metadata": {},
   "outputs": [],
   "source": [
    "## Get FastAPI Server Online\n",
    "if __name__ == \"__main__\":\n",
    "    nest_asyncio.apply()\n",
    "    uvicorn.run(app, host=\"127.0.0.1\", port=8000)"
   ]
  }
 ],
 "metadata": {
  "language_info": {
   "name": "python"
  }
 },
 "nbformat": 4,
 "nbformat_minor": 5
}
